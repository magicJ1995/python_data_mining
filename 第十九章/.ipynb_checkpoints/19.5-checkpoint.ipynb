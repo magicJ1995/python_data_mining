{
 "cells": [
  {
   "cell_type": "code",
   "execution_count": null,
   "metadata": {},
   "outputs": [],
   "source": []
  },
  {
   "cell_type": "code",
   "execution_count": 1,
   "metadata": {},
   "outputs": [
    {
     "name": "stderr",
     "output_type": "stream",
     "text": [
      "Using TensorFlow backend.\n"
     ]
    },
    {
     "name": "stdout",
     "output_type": "stream",
     "text": [
      "acc: 97.33%\n",
      "acc: 97.33%\n"
     ]
    }
   ],
   "source": [
    "from sklearn import datasets\n",
    "import numpy as np\n",
    "from keras.models import Sequential\n",
    "from keras.layers import Dense\n",
    "from keras.utils import to_categorical\n",
    "from keras.models import model_from_yaml\n",
    " \n",
    " \n",
    "# 导入数据\n",
    "dataset = datasets.load_iris()\n",
    " \n",
    "x = dataset.data\n",
    "Y = dataset.target\n",
    " \n",
    "# Convert labels to categorical one-hot encoding\n",
    "Y_labels = to_categorical(Y, num_classes=3)#将B的数据分成3类\n",
    " \n",
    "# 设定随机种子\n",
    "seed = 7\n",
    "np.random.seed(seed)\n",
    "# 构建模型函数\n",
    "def create_model(optimizer='rmsprop', init='glorot_uniform'):\n",
    "    # 构建模型\n",
    "    model = Sequential()\n",
    "    model.add(Dense(units=4, activation='relu', input_dim=4, kernel_initializer=init))\n",
    "    model.add(Dense(units=6, activation='relu', kernel_initializer=init))\n",
    "    model.add(Dense(units=3, activation='softmax', kernel_initializer=init))\n",
    " \n",
    "    # 编译模型\n",
    "    model.compile(loss='categorical_crossentropy', optimizer=optimizer, metrics=['accuracy'])\n",
    " \n",
    "    return model\n",
    " \n",
    "# 构建模型\n",
    "model = create_model()\n",
    "model.fit(x, Y_labels, epochs=200, batch_size=5, verbose=0)\n",
    " \n",
    "scores = model.evaluate(x, Y_labels, verbose=0)\n",
    "print('%s: %.2f%%' % (model.metrics_names[1], scores[1] * 100))\n",
    " \n",
    "# 模型保存成Json文件\n",
    "model_yaml = model.to_yaml()\n",
    "with open('model.yaml', 'w') as file:\n",
    "    file.write(model_yaml)\n",
    " \n",
    "# 保存模型的权重值\n",
    "model.save_weights('11.h5')\n",
    " \n",
    " \n",
    "# 从Json加载模型\n",
    "with open('model.yaml', 'r') as file:\n",
    "    model_json = file.read()\n",
    " \n",
    "# 加载模型\n",
    "new_model = model_from_yaml(model_json)\n",
    "new_model.load_weights('11.h5')\n",
    " \n",
    "# 编译模型\n",
    "new_model.compile(loss='categorical_crossentropy', optimizer='rmsprop', metrics=['accuracy'])\n",
    " \n",
    "# 评估从YAML加载的模型\n",
    "scores = new_model.evaluate(x, Y_labels, verbose=0)\n",
    "print('%s: %.2f%%' % (model.metrics_names[1], scores[1] * 100))\n"
   ]
  }
 ],
 "metadata": {
  "kernelspec": {
   "display_name": "tensorflow",
   "language": "python",
   "name": "tensorflow"
  },
  "language_info": {
   "codemirror_mode": {
    "name": "ipython",
    "version": 3
   },
   "file_extension": ".py",
   "mimetype": "text/x-python",
   "name": "python",
   "nbconvert_exporter": "python",
   "pygments_lexer": "ipython3",
   "version": "3.6.2"
  }
 },
 "nbformat": 4,
 "nbformat_minor": 2
}
